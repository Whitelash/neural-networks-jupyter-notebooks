{
 "cells": [
  {
   "cell_type": "markdown",
   "metadata": {
    "id": "gwk8PALCELOJ"
   },
   "source": [
    "#Introduction\n"
   ]
  },
  {
   "cell_type": "markdown",
   "metadata": {
    "id": "AaWLTVMCETzz"
   },
   "source": [
    "The task assigned is to create a Convolutional Neural Network, using a custom dataset, of about 20 characters in different images, then using  to visualize it. A model will be created, which will be used to carry out this task."
   ]
  },
  {
   "cell_type": "markdown",
   "metadata": {
    "id": "j3ha5cCcFyiS"
   },
   "source": [
    "#The Dataset"
   ]
  },
  {
   "cell_type": "markdown",
   "metadata": {
    "id": "aCoxav2nF2hD"
   },
   "source": [
    "The Dataset consists of approximately 20 images of each different numerical characters, using CV2. The images are then loaded and put in a list."
   ]
  },
  {
   "cell_type": "markdown",
   "metadata": {
    "id": "gHbi0-OgFoFW"
   },
   "source": [
    "#Loading the dataset"
   ]
  },
  {
   "cell_type": "code",
   "execution_count": 1,
   "metadata": {
    "id": "YR4oZaYMFqg7"
   },
   "outputs": [],
   "source": [
    "#importing the required libraries\n",
    "import pandas as pd\n",
    "import numpy as np # used to do various array operations\n",
    "import os # used to iterate through the directories and join paths\n",
    "import tensorflow as tf\n",
    "import cv2 # used to do image operations\n"
   ]
  },
  {
   "cell_type": "markdown",
   "metadata": {
    "id": "0sZKqOtSuHT1"
   },
   "source": [
    "#Creating the image data and the labels from the images "
   ]
  },
  {
   "cell_type": "markdown",
   "metadata": {
    "id": "GSezJhLRuUA3"
   },
   "source": [
    "- img_folder -> the source folder, it is the input parameter containing the images for different classes.\n",
    "- The images are converted to be represented as a numpy array\n",
    "- The datatype is float32\n",
    "- The image array is normalized to have values scaled down between 0 and 1 from 0 to 255 for similar distribution."
   ]
  },
  {
   "cell_type": "code",
   "execution_count": 2,
   "metadata": {
    "id": "lGkqgNtR4qXI"
   },
   "outputs": [],
   "source": [
    "#Setting the image dimension and source folder for loading the dataset\n",
    "IMG_WIDTH=28\n",
    "IMG_HEIGHT=28\n",
    "\n"
   ]
  },
  {
   "cell_type": "code",
   "execution_count": 66,
   "metadata": {
    "id": "XLcPV2TT5Jm-"
   },
   "outputs": [],
   "source": [
    "def create_dataset(img_folder):\n",
    "   \n",
    "    img_data_array=[]\n",
    "    class_name=[]\n",
    "   \n",
    "    for dir1 in os.listdir(img_folder):\n",
    "        for file in os.listdir(os.path.join(img_folder, dir1)):\n",
    "       \n",
    "            image_path= os.path.join(img_folder, dir1,  file)\n",
    "            image= cv2.imread( image_path, 0)\n",
    "            image=cv2.resize(image, (IMG_HEIGHT, IMG_WIDTH),interpolation = cv2.INTER_AREA)\n",
    "            image=np.array(image)\n",
    "            image = image.astype('float32')\n",
    "            image /= 255 \n",
    "            img_data_array.append(image)\n",
    "            class_name.append(dir1)\n",
    "    return img_data_array, class_name\n",
    "   "
   ]
  },
  {
   "cell_type": "code",
   "execution_count": 59,
   "metadata": {
    "id": "qa5LSPM8n53R"
   },
   "outputs": [],
   "source": [
    "# extracting the image array and class name\n",
    "img_data, class_name =create_dataset(\"/content/drive/My Drive/CNNimages\")"
   ]
  },
  {
   "cell_type": "markdown",
   "metadata": {
    "id": "T_lB1qAGFrVt"
   },
   "source": [
    "#Visualizing the images\n",
    "\n",
    "\n"
   ]
  },
  {
   "cell_type": "code",
   "execution_count": 5,
   "metadata": {
    "id": "PWq5Gs8Okrr0"
   },
   "outputs": [],
   "source": [
    "import matplotlib.pyplot as plt\n",
    "import seaborn as sns\n",
    "%matplotlib inline\n"
   ]
  },
  {
   "cell_type": "code",
   "execution_count": 67,
   "metadata": {
    "colab": {
     "base_uri": "https://localhost:8080/",
     "height": 282
    },
    "id": "dW4k44oaqJq1",
    "outputId": "54db3981-617a-404f-812a-0eedb245b7f3"
   },
   "outputs": [
    {
     "data": {
      "text/plain": [
       "<matplotlib.image.AxesImage at 0x7f975523af98>"
      ]
     },
     "execution_count": 67,
     "metadata": {
      "tags": []
     },
     "output_type": "execute_result"
    },
    {
     "data": {
      "image/png": "[encoded data removed]",
      "text/plain": [
       "<Figure size 432x288 with 1 Axes>"
      ]
     },
     "metadata": {
      "needs_background": "light",
      "tags": []
     },
     "output_type": "display_data"
    }
   ],
   "source": [
    "plt.imshow(img_data[1])"
   ]
  },
  {
   "cell_type": "code",
   "execution_count": 68,
   "metadata": {
    "colab": {
     "base_uri": "https://localhost:8080/",
     "height": 282
    },
    "id": "KOypUF7it07B",
    "outputId": "80e957db-f6ea-4631-9e5c-11af8b66e137"
   },
   "outputs": [
    {
     "data": {
      "text/plain": [
       "<matplotlib.image.AxesImage at 0x7f9755218b00>"
      ]
     },
     "execution_count": 68,
     "metadata": {
      "tags": []
     },
     "output_type": "execute_result"
    },
    {
     "data": {
      "image/png": "[encoded data removed]",
      "text/plain": [
       "<Figure size 432x288 with 1 Axes>"
      ]
     },
     "metadata": {
      "needs_background": "light",
      "tags": []
     },
     "output_type": "display_data"
    }
   ],
   "source": [
    "plt.imshow(img_data[19])"
   ]
  },
  {
   "cell_type": "markdown",
   "metadata": {
    "id": "oLhwy9eUxo2v"
   },
   "source": [
    "#Preparing the Data"
   ]
  },
  {
   "cell_type": "code",
   "execution_count": 8,
   "metadata": {
    "id": "E4nApaREyht6"
   },
   "outputs": [],
   "source": [
    "imag=np.array(img_data)"
   ]
  },
  {
   "cell_type": "markdown",
   "metadata": {
    "id": "K1Re_SqyxtW8"
   },
   "source": [
    "Reshaping the numpy array of data to fit the model to be used."
   ]
  },
  {
   "cell_type": "code",
   "execution_count": 9,
   "metadata": {
    "id": "dCuIyHPkyU-x"
   },
   "outputs": [],
   "source": [
    "imag =imag.reshape((60,28,28,1))"
   ]
  },
  {
   "cell_type": "code",
   "execution_count": 10,
   "metadata": {
    "colab": {
     "base_uri": "https://localhost:8080/",
     "height": 0
    },
    "id": "x3mtWdU2xrRK",
    "outputId": "81ffcaaf-b965-451c-f4e7-d42a848ccc9b"
   },
   "outputs": [
    {
     "data": {
      "text/plain": [
       "(60, 28, 28, 1)"
      ]
     },
     "execution_count": 10,
     "metadata": {
      "tags": []
     },
     "output_type": "execute_result"
    }
   ],
   "source": [
    "imag.shape"
   ]
  },
  {
   "cell_type": "markdown",
   "metadata": {
    "id": "r-8ZBBvGPuZE"
   },
   "source": [
    "#Creating the neural network"
   ]
  },
  {
   "cell_type": "markdown",
   "metadata": {
    "id": "bNMgs4mf6qct"
   },
   "source": [
    "#Loading the model"
   ]
  },
  {
   "cell_type": "code",
   "execution_count": 12,
   "metadata": {
    "id": "_TV1njbVOjuf"
   },
   "outputs": [],
   "source": [
    "from tensorflow.keras.models import Sequential as sq"
   ]
  },
  {
   "cell_type": "code",
   "execution_count": 13,
   "metadata": {
    "id": "M8UHrhlnPOi4"
   },
   "outputs": [],
   "source": [
    "cnn = sq()"
   ]
  },
  {
   "cell_type": "code",
   "execution_count": 14,
   "metadata": {
    "colab": {
     "base_uri": "https://localhost:8080/",
     "height": 0
    },
    "id": "Rwy5_eyuPkY1",
    "outputId": "f74b2349-5610-4481-c8df-913b5487b906"
   },
   "outputs": [
    {
     "data": {
      "text/plain": [
       "<tensorflow.python.keras.engine.sequential.Sequential at 0x7f97634c5208>"
      ]
     },
     "execution_count": 14,
     "metadata": {
      "tags": []
     },
     "output_type": "execute_result"
    }
   ],
   "source": [
    "cnn"
   ]
  },
  {
   "cell_type": "markdown",
   "metadata": {
    "id": "rSrG56oUPmmv"
   },
   "source": [
    "#Adding layers to the network"
   ]
  },
  {
   "cell_type": "code",
   "execution_count": 15,
   "metadata": {
    "id": "LEHMHj9yPrIe"
   },
   "outputs": [],
   "source": [
    "from tensorflow.keras.layers import Conv2D, Dense, Flatten, MaxPooling2D"
   ]
  },
  {
   "cell_type": "code",
   "execution_count": 16,
   "metadata": {
    "id": "SgamNToQP6SK"
   },
   "outputs": [],
   "source": [
    "#Adding coonv2D which implements a convolutional layer (layer 1)\n",
    "cnn.add(Conv2D(filters=64, kernel_size=(3,3), activation='relu', input_shape=(28,28,1)))"
   ]
  },
  {
   "cell_type": "code",
   "execution_count": 17,
   "metadata": {
    "colab": {
     "base_uri": "https://localhost:8080/",
     "height": 0
    },
    "id": "Ep9F1RvEPlAo",
    "outputId": "2d0546b3-5850-4f75-8ace-f81cd91430f4"
   },
   "outputs": [
    {
     "data": {
      "text/plain": [
       "<tensorflow.python.keras.engine.sequential.Sequential at 0x7f97634c5208>"
      ]
     },
     "execution_count": 17,
     "metadata": {
      "tags": []
     },
     "output_type": "execute_result"
    }
   ],
   "source": [
    "cnn"
   ]
  },
  {
   "cell_type": "code",
   "execution_count": 18,
   "metadata": {
    "id": "A-e-iqejQCen"
   },
   "outputs": [],
   "source": [
    "#pooling layer\n",
    "cnn.add(MaxPooling2D(pool_size=(2,2)))"
   ]
  },
  {
   "cell_type": "code",
   "execution_count": 19,
   "metadata": {
    "colab": {
     "base_uri": "https://localhost:8080/",
     "height": 0
    },
    "id": "bwNm9zkwQGhS",
    "outputId": "0d291b28-ef98-41ac-df33-ad24778b34e8"
   },
   "outputs": [
    {
     "data": {
      "text/plain": [
       "<tensorflow.python.keras.engine.sequential.Sequential at 0x7f97634c5208>"
      ]
     },
     "execution_count": 19,
     "metadata": {
      "tags": []
     },
     "output_type": "execute_result"
    }
   ],
   "source": [
    "cnn"
   ]
  },
  {
   "cell_type": "code",
   "execution_count": 20,
   "metadata": {
    "id": "DwZO0EpJQIma"
   },
   "outputs": [],
   "source": [
    "#Convo layer 2\n",
    "cnn.add(Conv2D(filters=128, kernel_size=(3,3), activation='relu'))"
   ]
  },
  {
   "cell_type": "code",
   "execution_count": 21,
   "metadata": {
    "id": "loEksgoDQOl3"
   },
   "outputs": [],
   "source": [
    "#pooling layer 2\n",
    "cnn.add(MaxPooling2D(pool_size=(2,2)))"
   ]
  },
  {
   "cell_type": "code",
   "execution_count": 22,
   "metadata": {
    "colab": {
     "base_uri": "https://localhost:8080/",
     "height": 0
    },
    "id": "k_GfG9HVQPvE",
    "outputId": "e98f9b4b-a9a0-4d20-fb62-3bf84919f9d4"
   },
   "outputs": [
    {
     "data": {
      "text/plain": [
       "<tensorflow.python.keras.engine.sequential.Sequential at 0x7f97634c5208>"
      ]
     },
     "execution_count": 22,
     "metadata": {
      "tags": []
     },
     "output_type": "execute_result"
    }
   ],
   "source": [
    "cnn"
   ]
  },
  {
   "cell_type": "code",
   "execution_count": 23,
   "metadata": {
    "id": "zPZrPs4xQTHX"
   },
   "outputs": [],
   "source": [
    "#Flattening the results\n",
    "cnn.add(Flatten())"
   ]
  },
  {
   "cell_type": "code",
   "execution_count": 25,
   "metadata": {
    "colab": {
     "base_uri": "https://localhost:8080/",
     "height": 0
    },
    "id": "zuaYA4lQQVzU",
    "outputId": "171c154b-dcc0-403c-8da0-3e37a9769317"
   },
   "outputs": [
    {
     "data": {
      "text/plain": [
       "<tensorflow.python.keras.engine.sequential.Sequential at 0x7f97634c5208>"
      ]
     },
     "execution_count": 25,
     "metadata": {
      "tags": []
     },
     "output_type": "execute_result"
    }
   ],
   "source": [
    "cnn"
   ]
  },
  {
   "cell_type": "code",
   "execution_count": 26,
   "metadata": {
    "id": "6G1C-SVMQWob"
   },
   "outputs": [],
   "source": [
    "cnn.add(Dense(units=128, activation='relu'))"
   ]
  },
  {
   "cell_type": "code",
   "execution_count": 27,
   "metadata": {
    "id": "OninudEAQavB"
   },
   "outputs": [],
   "source": [
    "cnn.add(Dense(units=10, activation='softmax'))"
   ]
  },
  {
   "cell_type": "code",
   "execution_count": 29,
   "metadata": {
    "colab": {
     "base_uri": "https://localhost:8080/",
     "height": 0
    },
    "id": "G_h8d_my6wJc",
    "outputId": "1a716b7f-e632-458d-82ed-ab717ea59387"
   },
   "outputs": [
    {
     "name": "stdout",
     "output_type": "stream",
     "text": [
      "Model: \"sequential\"\n",
      "_________________________________________________________________\n",
      "Layer (type)                 Output Shape              Param #   \n",
      "=================================================================\n",
      "conv2d (Conv2D)              (None, 26, 26, 64)        640       \n",
      "_________________________________________________________________\n",
      "max_pooling2d (MaxPooling2D) (None, 13, 13, 64)        0         \n",
      "_________________________________________________________________\n",
      "conv2d_1 (Conv2D)            (None, 11, 11, 128)       73856     \n",
      "_________________________________________________________________\n",
      "max_pooling2d_1 (MaxPooling2 (None, 5, 5, 128)         0         \n",
      "_________________________________________________________________\n",
      "flatten (Flatten)            (None, 3200)              0         \n",
      "_________________________________________________________________\n",
      "dense (Dense)                (None, 128)               409728    \n",
      "_________________________________________________________________\n",
      "dense_1 (Dense)              (None, 10)                1290      \n",
      "=================================================================\n",
      "Total params: 485,514\n",
      "Trainable params: 485,514\n",
      "Non-trainable params: 0\n",
      "_________________________________________________________________\n"
     ]
    }
   ],
   "source": [
    "cnn.summary()# gives a summary of the model "
   ]
  },
  {
   "cell_type": "markdown",
   "metadata": {
    "id": "RH6ayAcPQsoi"
   },
   "source": [
    "# Visualizing the model structure"
   ]
  },
  {
   "cell_type": "code",
   "execution_count": 30,
   "metadata": {
    "colab": {
     "base_uri": "https://localhost:8080/",
     "height": 865
    },
    "id": "R2haIRNPQo0m",
    "outputId": "c532a25d-47cd-419c-c605-219a141e2755"
   },
   "outputs": [
    {
     "data": {
      "image/png": "[encoded data removed]",
      "text/plain": [
       "<IPython.core.display.Image object>"
      ]
     },
     "execution_count": 30,
     "metadata": {
      "tags": []
     },
     "output_type": "execute_result"
    }
   ],
   "source": [
    "from tensorflow.keras.utils import plot_model\n",
    "from IPython.display import Image\n",
    "plot_model(cnn, to_file='convonet.png', show_shapes=True, show_layer_names=True)\n",
    "Image(filename='convonet.png')# display the image"
   ]
  },
  {
   "cell_type": "markdown",
   "metadata": {
    "id": "M_KNbYtOQwgw"
   },
   "source": [
    "# Training and evaluation"
   ]
  },
  {
   "cell_type": "code",
   "execution_count": 32,
   "metadata": {
    "id": "eUCLmEfiQzD7"
   },
   "outputs": [],
   "source": [
    "#compiling the model\n",
    "cnn.compile(optimizer='adam', loss='categorical_crossentropy', metrics=['accuracy'])"
   ]
  },
  {
   "cell_type": "code",
   "execution_count": 33,
   "metadata": {
    "id": "E6G9KjVMQ2yj"
   },
   "outputs": [],
   "source": [
    "from tensorflow.keras.callbacks import TensorBoard\n",
    "import time"
   ]
  },
  {
   "cell_type": "markdown",
   "metadata": {
    "id": "4PWi3vf7aa2I"
   },
   "source": [
    "Evaluating the model"
   ]
  },
  {
   "cell_type": "code",
   "execution_count": 37,
   "metadata": {
    "id": "qBpL-ZUIKKMq"
   },
   "outputs": [],
   "source": [
    "#Defining class values\n",
    "target_dict={k: v for v, k in enumerate(np.unique(class_name))}\n",
    "target_val=  [target_dict[class_name[i]] for i in range(len(class_name))]"
   ]
  },
  {
   "cell_type": "code",
   "execution_count": 38,
   "metadata": {
    "colab": {
     "base_uri": "https://localhost:8080/",
     "height": 0
    },
    "id": "E5MqQeCdKkh8",
    "outputId": "28375000-495e-4265-c861-8cd66875b686"
   },
   "outputs": [
    {
     "data": {
      "text/plain": [
       "{'testing': 0, 'training': 1}"
      ]
     },
     "execution_count": 38,
     "metadata": {
      "tags": []
     },
     "output_type": "execute_result"
    }
   ],
   "source": [
    "target_dict"
   ]
  },
  {
   "cell_type": "code",
   "execution_count": 39,
   "metadata": {
    "id": "pg6h8SSQKe4Z"
   },
   "outputs": [],
   "source": [
    "from tensorflow.keras.utils import to_categorical"
   ]
  },
  {
   "cell_type": "code",
   "execution_count": 40,
   "metadata": {
    "id": "P8rBDiqGLXQg"
   },
   "outputs": [],
   "source": [
    "target_val=to_categorical(target_val)"
   ]
  },
  {
   "cell_type": "code",
   "execution_count": null,
   "metadata": {
    "id": "S_Lsxlw5RNs-"
   },
   "outputs": [],
   "source": [
    "#evaluating the model on unseen data using the evaluate method\n",
    "loss, accuracy = cnn.evaluate(x_test, y_test)"
   ]
  },
  {
   "cell_type": "code",
   "execution_count": 41,
   "metadata": {
    "colab": {
     "base_uri": "https://localhost:8080/",
     "height": 0
    },
    "id": "-btzikY-LZwo",
    "outputId": "58c5a5ed-f256-4b0b-e074-0450ae51cfa2"
   },
   "outputs": [
    {
     "data": {
      "text/plain": [
       "(20, 2)"
      ]
     },
     "execution_count": 41,
     "metadata": {
      "tags": []
     },
     "output_type": "execute_result"
    }
   ],
   "source": [
    "target_val.shape"
   ]
  },
  {
   "cell_type": "code",
   "execution_count": 42,
   "metadata": {
    "colab": {
     "base_uri": "https://localhost:8080/",
     "height": 0
    },
    "id": "CXJ4EBt2fQzg",
    "outputId": "fafc54fe-1121-4a4a-ebfc-e56548a5377f"
   },
   "outputs": [
    {
     "data": {
      "text/plain": [
       "array([[0., 1.],\n",
       "       [0., 1.],\n",
       "       [0., 1.],\n",
       "       [0., 1.],\n",
       "       [0., 1.],\n",
       "       [0., 1.],\n",
       "       [0., 1.],\n",
       "       [0., 1.],\n",
       "       [0., 1.],\n",
       "       [0., 1.],\n",
       "       [0., 1.],\n",
       "       [0., 1.],\n",
       "       [0., 1.],\n",
       "       [1., 0.],\n",
       "       [1., 0.],\n",
       "       [1., 0.],\n",
       "       [1., 0.],\n",
       "       [1., 0.],\n",
       "       [1., 0.],\n",
       "       [1., 0.]], dtype=float32)"
      ]
     },
     "execution_count": 42,
     "metadata": {
      "tags": []
     },
     "output_type": "execute_result"
    }
   ],
   "source": [
    "target_val"
   ]
  },
  {
   "cell_type": "code",
   "execution_count": 48,
   "metadata": {
    "id": "L1_7ZZdqTxDe"
   },
   "outputs": [],
   "source": [
    "predictions=cnn.predict(imag)"
   ]
  },
  {
   "cell_type": "code",
   "execution_count": 49,
   "metadata": {
    "id": "4OgtVEEnTQo4"
   },
   "outputs": [],
   "source": [
    "images=imag.reshape((60,28,28))\n",
    "incorrect_predictions=[]"
   ]
  },
  {
   "cell_type": "markdown",
   "metadata": {
    "id": "GiGX9dlLaUl6"
   },
   "source": []
  },
  {
   "cell_type": "code",
   "execution_count": 50,
   "metadata": {
    "id": "CS8tg4DJTRgp"
   },
   "outputs": [],
   "source": [
    "for i, (p,e) in enumerate(zip(predictions,target_val)):\n",
    "    predicted, expected = np.argmax(p),np.argmax(e)\n",
    "    if predicted != expected: # prediction was incorrect\n",
    "        incorrect_predictions.append((i,images[i],predicted, expected))"
   ]
  },
  {
   "cell_type": "code",
   "execution_count": 51,
   "metadata": {
    "colab": {
     "base_uri": "https://localhost:8080/",
     "height": 0
    },
    "id": "mjz799lWTfUO",
    "outputId": "d8247489-30d6-4dff-c7c3-2dd9f942781f"
   },
   "outputs": [
    {
     "data": {
      "text/plain": [
       "20"
      ]
     },
     "execution_count": 51,
     "metadata": {
      "tags": []
     },
     "output_type": "execute_result"
    }
   ],
   "source": [
    "len(incorrect_predictions)"
   ]
  },
  {
   "cell_type": "markdown",
   "metadata": {
    "id": "Dh4AAo-VaC5X"
   },
   "source": [
    "There are 20 inaccurate predictions from the model."
   ]
  },
  {
   "cell_type": "code",
   "execution_count": 69,
   "metadata": {
    "colab": {
     "base_uri": "https://localhost:8080/",
     "height": 796
    },
    "id": "3Eu0mp8AT95I",
    "outputId": "bdfd52bf-916a-4da5-d1fe-ffb6dea6176b"
   },
   "outputs": [
    {
     "data": {
      "image/png": "[encoded data removed]",
      "text/plain": [
       "<Figure size 1152x864 with 18 Axes>"
      ]
     },
     "metadata": {
      "needs_background": "light",
      "tags": []
     },
     "output_type": "display_data"
    }
   ],
   "source": [
    "figure, axes=plt.subplots(nrows=3, ncols=6, figsize=(16,12))\n",
    "\n",
    "for axes, item in zip(axes.ravel(), incorrect_predictions):\n",
    "    index, image,predicted, expected = item\n",
    "    axes.imshow(image,cmap=plt.cm.gray_r)\n",
    "    axes.set_title(f'index: {index}\\n p: {predicted};e: {expected}')\n",
    "plt.tight_layout()"
   ]
  },
  {
   "cell_type": "code",
   "execution_count": 70,
   "metadata": {
    "colab": {
     "base_uri": "https://localhost:8080/",
     "height": 282
    },
    "id": "ge-bG0qzT_eL",
    "outputId": "32ec8c02-b4aa-42f1-f668-3962db043863"
   },
   "outputs": [
    {
     "data": {
      "text/plain": [
       "<matplotlib.image.AxesImage at 0x7f9757f29f28>"
      ]
     },
     "execution_count": 70,
     "metadata": {
      "tags": []
     },
     "output_type": "execute_result"
    },
    {
     "data": {
      "image/png": "[encoded data removed]",
      "text/plain": [
       "<Figure size 432x288 with 1 Axes>"
      ]
     },
     "metadata": {
      "needs_background": "light",
      "tags": []
     },
     "output_type": "display_data"
    }
   ],
   "source": [
    "plt.imshow(images[13])"
   ]
  },
  {
   "cell_type": "code",
   "execution_count": 71,
   "metadata": {
    "colab": {
     "base_uri": "https://localhost:8080/",
     "height": 0
    },
    "id": "I5pgN3PpUGQ2",
    "outputId": "d2755713-8504-4267-ec93-590ca1f0f5ef"
   },
   "outputs": [
    {
     "name": "stdout",
     "output_type": "stream",
     "text": [
      "0: 9.3620941043%\n",
      "1: 9.9261209369%\n",
      "2: 11.4522047341%\n",
      "3: 9.2727206647%\n",
      "4: 10.9389431775%\n",
      "5: 8.9307375252%\n",
      "6: 10.5918087065%\n",
      "7: 9.4804309309%\n",
      "8: 9.1473981738%\n",
      "9: 10.8975380659%\n"
     ]
    }
   ],
   "source": [
    "for index,probability in enumerate(predictions[8]):\n",
    "    print(f\"{index}: {probability:.10%}\")"
   ]
  },
  {
   "cell_type": "markdown",
   "metadata": {
    "id": "sjTI037-bPV1"
   },
   "source": [
    "The model predicts the character to be a 2. It is almost accurate but it seeems to be quite 'confused'."
   ]
  },
  {
   "cell_type": "markdown",
   "metadata": {
    "id": "VY7F7D0KY_x1"
   },
   "source": [
    "#Conclusion"
   ]
  },
  {
   "cell_type": "markdown",
   "metadata": {
    "id": "1PJZR4K7ZGIr"
   },
   "source": [
    "From this, I am able to conclude that the model has very low accuracy. This may be due to overfitting"
   ]
  },
  {
   "cell_type": "markdown",
   "metadata": {
    "id": "4vi_Q6GMZfc9"
   },
   "source": [
    "#Recommendations"
   ]
  },
  {
   "cell_type": "markdown",
   "metadata": {
    "id": "OFrMJoMqZi21"
   },
   "source": [
    "The model can be improved in the following ways:\n",
    "* Changing the architecture of the model\n",
    "* Increase the dataset\n",
    "* Increase the number of epochs\n",
    "* Remove the missing values"
   ]
  }
 ],
 "metadata": {
  "colab": {
   "collapsed_sections": [],
   "name": "CNN Assignment.ipynb",
   "provenance": []
  },
  "kernelspec": {
   "display_name": "Python 3 (ipykernel)",
   "language": "python",
   "name": "python3"
  },
  "language_info": {
   "codemirror_mode": {
    "name": "ipython",
    "version": 3
   },
   "file_extension": ".py",
   "mimetype": "text/x-python",
   "name": "python",
   "nbconvert_exporter": "python",
   "pygments_lexer": "ipython3",
   "version": "3.9.7"
  }
 },
 "nbformat": 4,
 "nbformat_minor": 1
}
