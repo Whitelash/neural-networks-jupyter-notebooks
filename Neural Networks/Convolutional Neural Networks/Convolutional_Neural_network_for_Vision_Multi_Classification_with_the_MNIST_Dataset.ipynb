{
  "nbformat": 4,
  "nbformat_minor": 0,
  "metadata": {
    "colab": {
      "provenance": []
    },
    "kernelspec": {
      "display_name": "Python 3",
      "language": "python",
      "name": "python3"
    },
    "language_info": {
      "codemirror_mode": {
        "name": "ipython",
        "version": 3
      },
      "file_extension": ".py",
      "mimetype": "text/x-python",
      "name": "python",
      "nbconvert_exporter": "python",
      "pygments_lexer": "ipython3",
      "version": "3.6.10"
    }
  },
  "cells": [
    {
      "cell_type": "markdown",
      "metadata": {
        "id": "IAEHZ7DzhzY6"
      },
      "source": [
        "# Introduction\n",
        "\n",
        "* MNIST database of hand written digits (http://yann.lecun.com/exdb/mnist/)\n",
        "\n",
        "*  Create a convolutional neural network (CNN or convonet)(wikipedidia discussion on convolutional neural networks)\n",
        "    (https://en.wikipedia.org/wiki/Convolutional_neural_network)\n",
        "\n",
        "* Common in computer-vision applications\n",
        "    * Recignizing hand written digits and images\n",
        "    * self-driving cars\n",
        "    * Recognizing objects in images and videos\n",
        "    \n",
        "* Non-vision applications\n",
        "    * Natural-language processing\n",
        "    * Recommender systems\n",
        "\"\"\"\n"
      ]
    },
    {
      "cell_type": "markdown",
      "metadata": {
        "id": "FSywMQdahzZB"
      },
      "source": [
        "# The dataset\n",
        "\n",
        "* 60,000 labelled `(supervised)` digid image samples for training and 10000 for testing\n",
        "\n",
        "* The data is a 28 by 28 pixel image (784 features), represented as Numpy Arrays\n",
        "\n",
        "* Grayscale pixel intensity (shade) -- 0-255\n",
        "\n",
        "* In Convent we use the probabilistic classification\n",
        "    + Model will output 10 probabilities this is the likelihood 0-9\n",
        "    + Highest probability is the predicted value\n",
        "    "
      ]
    },
    {
      "cell_type": "markdown",
      "metadata": {
        "id": "w58IXV0-hzZE"
      },
      "source": [
        "# Keras and Deep learning\n",
        "\n",
        "* Reproducability is difficult since the libraries tend to parallelize the floating point calculations\n",
        "\n",
        "* Each time the calculations execute the execution is in different order.\n",
        "\n",
        "* Produce different results in each execution\n"
      ]
    },
    {
      "cell_type": "markdown",
      "metadata": {
        "id": "kCoEVVtthzZF"
      },
      "source": [
        "# Building the network (Model)\n",
        "\n",
        "* Sequence of layers containing the neurons used to learn from the samples\n",
        "\n",
        "* Each layer receieves inputs, process it, (activation function) and produce the results\n",
        "\n",
        "* The more the layers you stack, the deeper the network -- deep learning\n",
        "\n",
        "* Loss function -> produces a measure of how well the network predicts the target values.\n",
        "  The lower the value of the loss the better the predictions\n",
        "\n",
        "* Optimizer minimize the values produced by the loss function to tune the network to make better predictions"
      ]
    },
    {
      "cell_type": "markdown",
      "metadata": {
        "id": "KKGlzZjFhzZH"
      },
      "source": [
        "# Loading the MNIST Dataset"
      ]
    },
    {
      "cell_type": "code",
      "metadata": {
        "id": "cNoLCn0VhzZI"
      },
      "source": [
        "from tensorflow.keras.datasets import mnist\n",
        "# from sklearn.dataset import fetch_mldata"
      ],
      "execution_count": null,
      "outputs": []
    },
    {
      "cell_type": "code",
      "metadata": {
        "id": "tVMPqsSYhzZR",
        "outputId": "594d6670-03e8-487d-d6bd-d25fac492fa2",
        "colab": {
          "base_uri": "https://localhost:8080/"
        }
      },
      "source": [
        "# load the data as training and testing\n",
        "(x_train, y_train), (x_test, y_test) = mnist.load_data()"
      ],
      "execution_count": null,
      "outputs": [
        {
          "output_type": "stream",
          "text": [
            "Downloading data from https://storage.googleapis.com/tensorflow/tf-keras-datasets/mnist.npz\n",
            "11493376/11490434 [==============================] - 0s 0us/step\n"
          ],
          "name": "stdout"
        }
      ]
    },
    {
      "cell_type": "code",
      "metadata": {
        "id": "TLYAjHfuhzZX",
        "outputId": "d3ffe659-e8d5-44aa-f894-73185ac058aa",
        "colab": {
          "base_uri": "https://localhost:8080/"
        }
      },
      "source": [
        "# # checking the dimensions of the data\n",
        "x_train.shape"
      ],
      "execution_count": null,
      "outputs": [
        {
          "output_type": "execute_result",
          "data": {
            "text/plain": [
              "(60000, 28, 28)"
            ]
          },
          "metadata": {
            "tags": []
          },
          "execution_count": 3
        }
      ]
    },
    {
      "cell_type": "markdown",
      "metadata": {
        "id": "de2Ba-8TVVQj"
      },
      "source": []
    },
    {
      "cell_type": "code",
      "metadata": {
        "id": "BJwKIu8PhzZd",
        "outputId": "94d5bcee-5c51-4e5b-af13-cfe6f2c26a9f",
        "colab": {
          "base_uri": "https://localhost:8080/"
        }
      },
      "source": [
        "x_test.shape"
      ],
      "execution_count": null,
      "outputs": [
        {
          "output_type": "execute_result",
          "data": {
            "text/plain": [
              "(10000, 28, 28)"
            ]
          },
          "metadata": {
            "tags": []
          },
          "execution_count": 4
        }
      ]
    },
    {
      "cell_type": "code",
      "metadata": {
        "id": "o0MLeCfFhzZl",
        "outputId": "569fcd5b-85dd-400b-c054-70a68b12aab0",
        "colab": {
          "base_uri": "https://localhost:8080/"
        }
      },
      "source": [
        "y_test.shape"
      ],
      "execution_count": null,
      "outputs": [
        {
          "output_type": "execute_result",
          "data": {
            "text/plain": [
              "(10000,)"
            ]
          },
          "metadata": {
            "tags": []
          },
          "execution_count": 5
        }
      ]
    },
    {
      "cell_type": "markdown",
      "metadata": {
        "id": "sGaW70ymhzZt"
      },
      "source": [
        "# Visualizing the digits"
      ]
    },
    {
      "cell_type": "code",
      "metadata": {
        "id": "mTOmX2OihzZu"
      },
      "source": [
        "import numpy as np\n",
        "import matplotlib.pyplot as plt\n",
        "import seaborn as sns\n",
        "%matplotlib inline"
      ],
      "execution_count": null,
      "outputs": []
    },
    {
      "cell_type": "code",
      "metadata": {
        "id": "ZjDuXupZhzZ5",
        "outputId": "d33013af-d13d-4feb-d628-5e2edba3578e",
        "colab": {
          "base_uri": "https://localhost:8080/",
          "height": 657
        }
      },
      "source": [
        "index = np.random.choice(np.arange(len(x_train)), 24, replace = False)\n",
        "figure,axes = plt.subplots(nrows = 4, ncols = 6, figsize = (16,9))\n",
        "\n",
        "for item in zip(axes.ravel(), x_train[index], y_train[index]):\n",
        "    axes, image,target = item\n",
        "    axes.imshow(image, cmap = plt.cm.gray_r)\n",
        "    axes.set_xticks([]) # removes the x-ticks marks\n",
        "    axes.set_yticks([]) # remove the y-ticks marks\n",
        "    axes.set_title(target)\n",
        "\n",
        "plt.tight_layout()"
      ],
      "execution_count": null,
      "outputs": [
        {
          "output_type": "display_data",
          "data": {
            "image/png": "[encoded data removed]",
            "text/plain": [
              "<Figure size 1152x648 with 24 Axes>"
            ]
          },
          "metadata": {
            "tags": []
          }
        }
      ]
    },
    {
      "cell_type": "markdown",
      "metadata": {
        "id": "LzzpSuSrhzaA"
      },
      "source": [
        "# Data preparation\n",
        "\n",
        "* Scikit-learn the dataset are bundled and are preprocessed in shape for\n",
        "    the models to be used in\n",
        "    \n",
        "* kereas convonet the dataset mnist will need to be prepared.\n",
        "\n",
        "* The data needs to be reshaped.\n",
        "\n",
        "* Each sample must have the shape\n",
        "\n",
        "* (width, height, channel) -- Each pixel has one channel for the grayscale\n",
        "    0-255 the sample shades are (28, 28, 1)\n",
        "    \n",
        "* As the NN learns from the images, it creates more channels\n",
        "    + The channel will represent more complex features i.e. edges, curves and\n",
        "        lines\n",
        "    + Enable the network to recognize digits based on the features and how they are combined"
      ]
    },
    {
      "cell_type": "markdown",
      "metadata": {
        "id": "LJkVSwg0hzaB"
      },
      "source": [
        "# Reshaping the data"
      ]
    },
    {
      "cell_type": "code",
      "metadata": {
        "id": "d8FzLOmNhzaD"
      },
      "source": [
        "x_train = x_train.reshape((60000, 28, 28, 1))"
      ],
      "execution_count": null,
      "outputs": []
    },
    {
      "cell_type": "code",
      "metadata": {
        "id": "C5mj5d80hzaJ",
        "outputId": "1d49d3ce-9d06-488c-e262-015901611e22",
        "colab": {
          "base_uri": "https://localhost:8080/"
        }
      },
      "source": [
        "x_train.shape"
      ],
      "execution_count": null,
      "outputs": [
        {
          "output_type": "execute_result",
          "data": {
            "text/plain": [
              "(60000, 28, 28, 1)"
            ]
          },
          "metadata": {
            "tags": []
          },
          "execution_count": 9
        }
      ]
    },
    {
      "cell_type": "code",
      "metadata": {
        "id": "RLO5vgHXhzaO"
      },
      "source": [
        "x_test = x_test.reshape((10000, 28, 28, 1))"
      ],
      "execution_count": null,
      "outputs": []
    },
    {
      "cell_type": "code",
      "metadata": {
        "id": "gmHHdbW9hzaa",
        "outputId": "74234ceb-0cc0-4435-a0d2-7106e744c206",
        "colab": {
          "base_uri": "https://localhost:8080/"
        }
      },
      "source": [
        "x_test.shape"
      ],
      "execution_count": null,
      "outputs": [
        {
          "output_type": "execute_result",
          "data": {
            "text/plain": [
              "(10000, 28, 28, 1)"
            ]
          },
          "metadata": {
            "tags": []
          },
          "execution_count": 11
        }
      ]
    },
    {
      "cell_type": "markdown",
      "metadata": {
        "id": "_O1EVv9-hzai"
      },
      "source": [
        "# Normalizing the image data"
      ]
    },
    {
      "cell_type": "markdown",
      "metadata": {
        "id": "4zZ7fJ4bhzaj"
      },
      "source": [
        "Numeric features values -> could vary widely\n",
        "28*28 = 784 == Deep learning perform better on data that is normalized\n",
        "* 0.0 - 1.0\n",
        "* A range for which the data mean is 0.0 and SD is 1.0\n",
        "=> Divide each pixel value of 255 to normalize to 0.0 - 1.0\n",
        "RGB (0 - 255): 0, 0, 255"
      ]
    },
    {
      "cell_type": "code",
      "metadata": {
        "id": "HcOmJjvDhzal"
      },
      "source": [
        "x_train = x_train.astype('float32')/255"
      ],
      "execution_count": null,
      "outputs": []
    },
    {
      "cell_type": "code",
      "metadata": {
        "id": "kjOtsKRGhzas"
      },
      "source": [
        "x_test = x_test.astype('float32')/255"
      ],
      "execution_count": null,
      "outputs": []
    },
    {
      "cell_type": "markdown",
      "metadata": {
        "id": "XC3rCnzihzaz"
      },
      "source": [
        "# one-Hot Encoding: Convert labels into categorical data"
      ]
    },
    {
      "cell_type": "markdown",
      "metadata": {
        "id": "nu_-jj9ihza3"
      },
      "source": [
        "Prediction for each digit will be an array of 10 probabilities. e.g. 0.8, 0.0, 0.1, 0, ....(10).\n",
        "To evaluate the model accuracy, Keras compares predictions to datasets labels\n",
        "* Both must have the same shape\n",
        "* The MNIST labels are individual integers 0 - 9\n",
        "We must transform labels into categorical data arrays that matches the prediction format.\n",
        "We use one-hot encoding to convert labels from integers into 10 element arrays of 1.0s and 0.0s\n",
        "Only one element is a 1.0 and the rest are 0.0s (0, 1, 2, ...9):\n",
        "(0, 0.05, 0.5, 0.8, 0.000) >> 0(1) 1(0) 2(0) ... 9(0) tensorflow.keras.utils function to_categorical --\n",
        "one-hot encoding apples,, lemons,, oranges,,, 1 0"
      ]
    },
    {
      "cell_type": "markdown",
      "metadata": {
        "id": "e0Y7a_qphza4"
      },
      "source": [
        "# One-Hot encoding"
      ]
    },
    {
      "cell_type": "code",
      "metadata": {
        "id": "x4G1QxLJhza5"
      },
      "source": [
        "from tensorflow.keras.utils import to_categorical"
      ],
      "execution_count": null,
      "outputs": []
    },
    {
      "cell_type": "code",
      "metadata": {
        "id": "IY207_ighza9"
      },
      "source": [
        "y_train = to_categorical(y_train)"
      ],
      "execution_count": null,
      "outputs": []
    },
    {
      "cell_type": "code",
      "metadata": {
        "id": "7jGl-qrVhzbE",
        "outputId": "73c41368-92ba-48cd-f739-7eb71c6649b6",
        "colab": {
          "base_uri": "https://localhost:8080/"
        }
      },
      "source": [
        "y_train.shape"
      ],
      "execution_count": null,
      "outputs": [
        {
          "output_type": "execute_result",
          "data": {
            "text/plain": [
              "(60000, 10)"
            ]
          },
          "metadata": {
            "tags": []
          },
          "execution_count": 16
        }
      ]
    },
    {
      "cell_type": "code",
      "metadata": {
        "id": "OT1IclnehzbL",
        "outputId": "26f0bbd4-a241-4a85-a566-6e8425a19c1e",
        "colab": {
          "base_uri": "https://localhost:8080/"
        }
      },
      "source": [
        "y_train[0]"
      ],
      "execution_count": null,
      "outputs": [
        {
          "output_type": "execute_result",
          "data": {
            "text/plain": [
              "array([0., 0., 0., 0., 0., 1., 0., 0., 0., 0.], dtype=float32)"
            ]
          },
          "metadata": {
            "tags": []
          },
          "execution_count": 17
        }
      ]
    },
    {
      "cell_type": "code",
      "metadata": {
        "id": "uqXqo_MNhzbQ",
        "outputId": "37f64447-cfb6-45f2-ad7a-2e2b8c7dbf77",
        "colab": {
          "base_uri": "https://localhost:8080/"
        }
      },
      "source": [
        "len(y_train[0])"
      ],
      "execution_count": null,
      "outputs": [
        {
          "output_type": "execute_result",
          "data": {
            "text/plain": [
              "10"
            ]
          },
          "metadata": {
            "tags": []
          },
          "execution_count": 18
        }
      ]
    },
    {
      "cell_type": "code",
      "metadata": {
        "id": "x6dXoEMLhzbU"
      },
      "source": [
        "y_test = to_categorical(y_test)"
      ],
      "execution_count": null,
      "outputs": []
    },
    {
      "cell_type": "code",
      "metadata": {
        "id": "2EXq-ChWhzba",
        "outputId": "4aee97e0-a605-4f34-ada5-2cc63a3a7de7",
        "colab": {
          "base_uri": "https://localhost:8080/"
        }
      },
      "source": [
        "y_test.shape"
      ],
      "execution_count": null,
      "outputs": [
        {
          "output_type": "execute_result",
          "data": {
            "text/plain": [
              "(10000, 10)"
            ]
          },
          "metadata": {
            "tags": []
          },
          "execution_count": 20
        }
      ]
    },
    {
      "cell_type": "markdown",
      "metadata": {
        "id": "x9Lv6R83FkI6"
      },
      "source": []
    },
    {
      "cell_type": "markdown",
      "metadata": {
        "id": "1szUcn0Qhzbg"
      },
      "source": [
        "# Creation of a Convolutional Neural Network"
      ]
    },
    {
      "cell_type": "markdown",
      "metadata": {
        "id": "xkvz7yI1hzbh"
      },
      "source": [
        "* Configure a CNN\n",
        "* Sequential Model -- Stacks layers to execute sequentially\n",
        "    - Output of one layer  becomes the input to the next\n",
        "    - Feed forward network\n",
        "    - (Not all layers will feed the next layer)"
      ]
    },
    {
      "cell_type": "code",
      "metadata": {
        "id": "TQbGGc6xhzbi"
      },
      "source": [
        "from tensorflow.keras.models import Sequential as sq"
      ],
      "execution_count": null,
      "outputs": []
    },
    {
      "cell_type": "code",
      "metadata": {
        "id": "xjDRpYcnhzbr"
      },
      "source": [
        "cnn = sq()"
      ],
      "execution_count": null,
      "outputs": []
    },
    {
      "cell_type": "code",
      "metadata": {
        "id": "V6UCUgrghzb_",
        "outputId": "e29cb18f-b3c9-43b6-b9d5-aef6e1e2622c",
        "colab": {
          "base_uri": "https://localhost:8080/"
        }
      },
      "source": [
        "cnn"
      ],
      "execution_count": null,
      "outputs": [
        {
          "output_type": "execute_result",
          "data": {
            "text/plain": [
              "<tensorflow.python.keras.engine.sequential.Sequential at 0x7f61bce3f320>"
            ]
          },
          "metadata": {
            "tags": []
          },
          "execution_count": 23
        }
      ]
    },
    {
      "cell_type": "markdown",
      "metadata": {
        "id": "C_ACQzC3hzcJ"
      },
      "source": [
        "# Adding layers to the network"
      ]
    },
    {
      "cell_type": "markdown",
      "metadata": {
        "id": "fVPPfqWahzcL"
      },
      "source": [
        "* A typical convonet has:\n",
        "   - An input layer -- receives the training samples\n",
        "   - HIdden layers -- that learn  from the training samples\n",
        "   - Output layer -- produces the predictions\n"
      ]
    },
    {
      "cell_type": "code",
      "metadata": {
        "id": "WWKZKgR0hzcM"
      },
      "source": [
        "from tensorflow.keras.layers import Conv2D, Dense, Flatten, MaxPooling2D"
      ],
      "execution_count": null,
      "outputs": []
    },
    {
      "cell_type": "markdown",
      "metadata": {
        "id": "E1ld6skShzcR"
      },
      "source": [
        "# First convolution\n",
        "\n",
        "We start with the convolution layer\n",
        "It uses the relationship between pixels in close proximity, to run learn some\n",
        "*useful features* (patterns) in small areas of each sample\n",
        "These features become input to the subsequent layers"
      ]
    },
    {
      "cell_type": "markdown",
      "metadata": {
        "id": "frjGlySyhzcR"
      },
      "source": [
        "The next convolution layer moves kernel (3*3 matrix) to the right(sride)\n",
        "which then overlaps witht he previous kernel, so the convolution layer can learn\n",
        "from all features that touch one another.\n",
        "Complete pass left to right and top to bottom is called a **filter**.\n",
        "\n",
        "For a 3 by 3 kernel, the filter dimensions will be 2 less the input i.e.\n",
        "(6*6) -> (4*4) For the test data (28*28) === 26*26. The number of filters commonly used in the\n",
        "convolution layer is commonly 32 or 64, and each filter generates different results.\n",
        "\n",
        "Higher resolution images ---> more freatures and that means you require more filters.\n",
        "**The set of filters produced by a convolutional layer is called a feature map**.\n",
        "Subsequent convolutional layers combine features from previous feature maps to recognize large\n",
        "features. e.g. In facial recognition, the early layers might recognize lines, edges, curves and\n",
        "the subsequent layers might combine those features to get things like eyes, eyeballs, nose, ears\n",
        "and mouth.\n",
        "\n",
        "``After learning a feature, it can recognize that feature anywhere in the image`` -->  Convents\n",
        "are popular for object recognition in images\n"
      ]
    },
    {
      "cell_type": "code",
      "metadata": {
        "id": "83fT6QL6hzcS"
      },
      "source": [
        "#Adding coonv2D which implements a convolutional layer (layer 1)\n",
        "cnn.add(Conv2D(filters=64, kernel_size=(3,3), activation='relu', input_shape=(28,28,1)))"
      ],
      "execution_count": null,
      "outputs": []
    },
    {
      "cell_type": "code",
      "metadata": {
        "id": "nbicM644hzcX",
        "outputId": "243f580f-a42e-4c3d-c541-2ce855c3bade",
        "colab": {
          "base_uri": "https://localhost:8080/"
        }
      },
      "source": [
        "cnn"
      ],
      "execution_count": null,
      "outputs": [
        {
          "output_type": "execute_result",
          "data": {
            "text/plain": [
              "<tensorflow.python.keras.engine.sequential.Sequential at 0x7f61bce3f320>"
            ]
          },
          "metadata": {
            "tags": []
          },
          "execution_count": 26
        }
      ]
    },
    {
      "cell_type": "markdown",
      "metadata": {
        "id": "qfDxJwUmhzcc"
      },
      "source": [
        "* filters = 64: number of filters in the resulting feature map\n",
        "* kernel_size = (3, 3) == The size of the kernel used in each filter\n",
        "* activation = 'relu' == Rectifird Linear Unit activation function.\n",
        "\n",
        "s = activation(input*weights + bias) sinh = f(6) linear s=1"
      ]
    },
    {
      "cell_type": "markdown",
      "metadata": {
        "id": "6vttUVjPhzcd"
      },
      "source": [
        "Add a conv layer -- First layer shape (28, 28, 1) creates an input layer to load the samples and pass them to the Conv2D layer which is the first hidden layer. Subsequent layers infers input_shape from the previous layer's output -- **stacked\n",
        "layers**\n",
        "\n",
        "``Dimensionality of the first convolution layer's output`` -- since specified a 64 filters and a 3*3 kernel so the feature map is 26 * 26 * 64 features total 43264 -- significant increase in dimensionality -- this is what happens --- each layer adds features and this adds map dimentionality which grows significantly. Reason why deep learning requires high processing power.\n",
        "\n",
        "**Over fitting** -- This can occur when a model is too complex compared to what it is modelling. In extreme cases the model could even memorize its training data. In deep learning over fitting occurs if the dimensionality becomes too large. --> Computation time. CPU -- slow GPU -- >\n",
        "One way of preventing overfitting --> **pooling** --> adding a pooling layer to reduce the computation time (also reducing overfitting) a convolution layer is often followed by one or more layers that reduces dimentionality of the convolutional layer's output.\n",
        "\n",
        "Pooling compressed (down samples) the data,,, results in discarding some features. This reduces computation required, and creates a more ***general model***\n",
        "e.g. 44.1khz -- 44100 samples per second ...\n",
        "training(lower***) /// testing data( higher***)\n",
        "\n",
        "The most used pooling technique -- max pooling... keeps the maximum. --\n",
        "Adding a pooling layer -- outputs maximum feature from each pool\n",
        "Pools do not overlap..\n",
        "Stride for a 2 by 2 pool is 2\n",
        "each group of 4 features wil be reduced to one (2*2) pooling will compress\n",
        "the features by 75%\n",
        "\n",
        "26*26*64 == 13*13*64"
      ]
    },
    {
      "cell_type": "code",
      "metadata": {
        "id": "MGmidyQqhzce",
        "outputId": "d14e2709-70f8-4a6c-cae8-96508d7e707e",
        "colab": {
          "base_uri": "https://localhost:8080/"
        }
      },
      "source": [
        "28*28"
      ],
      "execution_count": null,
      "outputs": [
        {
          "output_type": "execute_result",
          "data": {
            "text/plain": [
              "784"
            ]
          },
          "metadata": {
            "tags": []
          },
          "execution_count": 27
        }
      ]
    },
    {
      "cell_type": "code",
      "metadata": {
        "id": "ZZ7vuydahzcl",
        "outputId": "ea242a86-5696-4ede-d52c-1e15262e5299",
        "colab": {
          "base_uri": "https://localhost:8080/"
        }
      },
      "source": [
        "26*26*64"
      ],
      "execution_count": null,
      "outputs": [
        {
          "output_type": "execute_result",
          "data": {
            "text/plain": [
              "43264"
            ]
          },
          "metadata": {
            "tags": []
          },
          "execution_count": 28
        }
      ]
    },
    {
      "cell_type": "code",
      "metadata": {
        "id": "KCkJanDchzcq"
      },
      "source": [
        "#pooling layer\n",
        "cnn.add(MaxPooling2D(pool_size=(2,2)))"
      ],
      "execution_count": null,
      "outputs": []
    },
    {
      "cell_type": "code",
      "metadata": {
        "id": "ieE-KBYshzcu",
        "outputId": "f57858a4-37b6-42d9-de74-df00b82af798",
        "colab": {
          "base_uri": "https://localhost:8080/"
        }
      },
      "source": [
        "cnn"
      ],
      "execution_count": null,
      "outputs": [
        {
          "output_type": "execute_result",
          "data": {
            "text/plain": [
              "<tensorflow.python.keras.engine.sequential.Sequential at 0x7f61bce3f320>"
            ]
          },
          "metadata": {
            "tags": []
          },
          "execution_count": 30
        }
      ]
    },
    {
      "cell_type": "markdown",
      "metadata": {
        "id": "d9elA1mohzcy"
      },
      "source": [
        "***Adding another convolutional layer and pooling layer -- convents have\n",
        "many convolutional and pooling layers...***"
      ]
    },
    {
      "cell_type": "code",
      "metadata": {
        "id": "WBVS37rAhzcy"
      },
      "source": [
        "#Convo layer 2\n",
        "cnn.add(Conv2D(filters=128, kernel_size=(3,3), activation='relu'))"
      ],
      "execution_count": null,
      "outputs": []
    },
    {
      "cell_type": "code",
      "metadata": {
        "id": "r3vPZ_jThzc3"
      },
      "source": [
        "#pooling layer 2\n",
        "cnn.add(MaxPooling2D(pool_size=(2,2)))"
      ],
      "execution_count": null,
      "outputs": []
    },
    {
      "cell_type": "code",
      "metadata": {
        "id": "gaQjSuwNhzc8",
        "outputId": "c365d9d5-4af2-4414-fcb9-d9701a656054",
        "colab": {
          "base_uri": "https://localhost:8080/"
        }
      },
      "source": [
        "cnn"
      ],
      "execution_count": null,
      "outputs": [
        {
          "output_type": "execute_result",
          "data": {
            "text/plain": [
              "<tensorflow.python.keras.engine.sequential.Sequential at 0x7f61bce3f320>"
            ]
          },
          "metadata": {
            "tags": []
          },
          "execution_count": 33
        }
      ]
    },
    {
      "cell_type": "markdown",
      "metadata": {
        "id": "BJ9WxeXthzdD"
      },
      "source": [
        "***The input to the second convo is 13*13*64(because of pooling) output from the first pooling layer.***\n",
        "\n",
        "***Output of this Conv2D layer will be 11*11*128***\n",
        "***For odd dimensions, the keras pooling layer rounds down uneven numbers i.e. (11*11*128)***\n",
        "in this case 10*10 -- (5*5 by 128)\n",
        "***Increase filters when you pool coz <filter and <features not good***\n"
      ]
    },
    {
      "cell_type": "markdown",
      "metadata": {
        "id": "vgM1eDkhhzdE"
      },
      "source": [
        "# Flattening the results\n",
        "The model's output will be a one dimensional (1d) array of 10 probabilities that classify the digits.\n",
        "To prepare for a 1D final prediction, we need to flatten the previous layers to one dimension\n",
        "Flattens layer's output will be 1 by 3200 (5*5*128) == 3200"
      ]
    },
    {
      "cell_type": "code",
      "metadata": {
        "id": "ojnKroBxhzdF"
      },
      "source": [
        "#Flattening the results\n",
        "cnn.add(Flatten())"
      ],
      "execution_count": null,
      "outputs": []
    },
    {
      "cell_type": "code",
      "metadata": {
        "id": "IxTzLM8ohzdJ",
        "outputId": "59c6486c-21e1-4146-9fc1-0ce2ace668d6",
        "colab": {
          "base_uri": "https://localhost:8080/"
        }
      },
      "source": [
        "cnn"
      ],
      "execution_count": null,
      "outputs": [
        {
          "output_type": "execute_result",
          "data": {
            "text/plain": [
              "<tensorflow.python.keras.engine.sequential.Sequential at 0x7f61bce3f320>"
            ]
          },
          "metadata": {
            "tags": []
          },
          "execution_count": 35
        }
      ]
    },
    {
      "cell_type": "markdown",
      "metadata": {
        "id": "mL7WuUiWhzdO"
      },
      "source": [
        "* First layers, (before flatten) learned digit features.\n",
        "* We then must learn the relationship between those features. ->\n",
        "    to classify which digit each image represents.\n",
        "* We use te fully connected Dense layers to achieve this\n",
        "* We create a dense layer (128 neurons- units) that learns from\n",
        "    3200 outputs"
      ]
    },
    {
      "cell_type": "code",
      "metadata": {
        "id": "qMkreXCRhzdP"
      },
      "source": [
        "cnn.add(Dense(units=128, activation='relu'))"
      ],
      "execution_count": null,
      "outputs": []
    },
    {
      "cell_type": "markdown",
      "metadata": {
        "id": "96ZMROMBhzdZ"
      },
      "source": [
        "Convonents contain at least one dense layer. For more complex image\n",
        "dataset (higher resolution images) - This requires more dense layers: commonly used is 4096 neurons\n"
      ]
    },
    {
      "cell_type": "markdown",
      "metadata": {
        "id": "tlg7R8RQhzda"
      },
      "source": [
        "We add another dense layer so as to produce the final output. The final dense layer classifies output into neurons\n",
        "(0-9). We use the softmax activation function. It converts the 10 neurons into classification probabilities.\n",
        "The neuron with the highest probabilities will represent the prediction of the given input digit."
      ]
    },
    {
      "cell_type": "code",
      "metadata": {
        "id": "Mw3wNPcahzdk"
      },
      "source": [
        "cnn.add(Dense(units=10, activation='softmax'))"
      ],
      "execution_count": null,
      "outputs": []
    },
    {
      "cell_type": "markdown",
      "metadata": {
        "id": "stCu2lU2hzds"
      },
      "source": [
        "# Printing the model"
      ]
    },
    {
      "cell_type": "markdown",
      "metadata": {
        "id": "AOPoxiUnhzdt"
      },
      "source": [
        "* We use the summary method."
      ]
    },
    {
      "cell_type": "code",
      "metadata": {
        "id": "hZRl_ag2hzdu",
        "outputId": "57749cb4-c5ec-4789-fc06-1627bc8d1c05",
        "colab": {
          "base_uri": "https://localhost:8080/"
        }
      },
      "source": [
        "cnn.summary()"
      ],
      "execution_count": null,
      "outputs": [
        {
          "output_type": "stream",
          "text": [
            "Model: \"sequential\"\n",
            "_________________________________________________________________\n",
            "Layer (type)                 Output Shape              Param #   \n",
            "=================================================================\n",
            "conv2d (Conv2D)              (None, 26, 26, 64)        640       \n",
            "_________________________________________________________________\n",
            "max_pooling2d (MaxPooling2D) (None, 13, 13, 64)        0         \n",
            "_________________________________________________________________\n",
            "conv2d_1 (Conv2D)            (None, 11, 11, 128)       73856     \n",
            "_________________________________________________________________\n",
            "max_pooling2d_1 (MaxPooling2 (None, 5, 5, 128)         0         \n",
            "_________________________________________________________________\n",
            "flatten (Flatten)            (None, 3200)              0         \n",
            "_________________________________________________________________\n",
            "dense (Dense)                (None, 128)               409728    \n",
            "_________________________________________________________________\n",
            "dense_1 (Dense)              (None, 10)                1290      \n",
            "=================================================================\n",
            "Total params: 485,514\n",
            "Trainable params: 485,514\n",
            "Non-trainable params: 0\n",
            "_________________________________________________________________\n"
          ],
          "name": "stdout"
        }
      ]
    },
    {
      "cell_type": "markdown",
      "metadata": {
        "id": "6mKS9y8Khzd2"
      },
      "source": [
        "Outputs:\n",
        "* Note that the output shapes and the numbers of parameters\n",
        "* The number of parameters are the weights\n",
        "* The network is relatively small. But has to learn over 500, 000 (28*28*64) -\n",
        "    the images are not so big. Assume 4k video frames, super high resolution images -- digital cameras\n",
        "* The output shape column: None means that the model does not know in advance how many training samples you\n",
        "    are going to provide."
      ]
    },
    {
      "cell_type": "markdown",
      "metadata": {
        "id": "YQMnatkahzd3"
      },
      "source": [
        "# Visualizing the model structure"
      ]
    },
    {
      "cell_type": "code",
      "metadata": {
        "id": "noeNEm3nhzd4",
        "outputId": "c51b0f17-c5ee-4cc1-c929-c7b55833f239",
        "colab": {
          "base_uri": "https://localhost:8080/",
          "height": 865
        }
      },
      "source": [
        "from tensorflow.keras.utils import plot_model\n",
        "from IPython.display import Image\n",
        "plot_model(cnn, to_file='convonet.png', show_shapes=True, show_layer_names=True)\n",
        "Image(filename='convonet.png')# display the image"
      ],
      "execution_count": null,
      "outputs": [
        {
          "output_type": "execute_result",
          "data": {
            "image/png": "[encoded data removed]",
            "text/plain": [
              "<IPython.core.display.Image object>"
            ]
          },
          "metadata": {
            "tags": []
          },
          "execution_count": 39
        }
      ]
    },
    {
      "cell_type": "markdown",
      "metadata": {
        "id": "N-pEtwd6hzeC"
      },
      "source": [
        "# Training and evaluation"
      ]
    },
    {
      "cell_type": "code",
      "metadata": {
        "id": "Zu1Is3VNhzeE"
      },
      "source": [
        "#compiling the model\n",
        "cnn.compile(optimizer='adam', loss='categorical_crossentropy', metrics=['accuracy'])"
      ],
      "execution_count": null,
      "outputs": []
    },
    {
      "cell_type": "code",
      "metadata": {
        "id": "18x07PWuQ0Ym"
      },
      "source": [],
      "execution_count": null,
      "outputs": []
    },
    {
      "cell_type": "markdown",
      "metadata": {
        "id": "KI4Web9ZhzeI"
      },
      "source": [
        "* Adam (performs well in most models) -- This adjusts the weights in the neural networl as it learns\n",
        "* Loss functions used by the optimizer in multi - classification network"
      ]
    },
    {
      "cell_type": "code",
      "metadata": {
        "id": "KqD4mkaaQ1W5"
      },
      "source": [
        "from tensorflow.keras.callbacks import TensorBoard\n",
        "import time\n"
      ],
      "execution_count": null,
      "outputs": []
    },
    {
      "cell_type": "code",
      "metadata": {
        "id": "yjgcEUcBRiaZ"
      },
      "source": [
        "tensorboard_callback = TensorBoard(log_dir=f'.\\\\logs_nn\\\\mnist{time.time()}', histogram_freq=1,write_graph=True)\n"
      ],
      "execution_count": null,
      "outputs": []
    },
    {
      "cell_type": "code",
      "metadata": {
        "id": "dwzVbbknhzeI",
        "outputId": "3bf8edb4-5360-44ca-a4c1-affc0f7b2852",
        "colab": {
          "base_uri": "https://localhost:8080/"
        }
      },
      "source": [
        "#fit method is used\n",
        "cnn.fit(x_train,y_train, epochs=5, batch_size=64, validation_split=0.1, callbacks=[tensorboard_callback])"
      ],
      "execution_count": null,
      "outputs": [
        {
          "output_type": "stream",
          "text": [
            "Epoch 1/5\n",
            "844/844 [==============================] - 102s 121ms/step - loss: 0.0524 - accuracy: 0.9836 - val_loss: 0.0367 - val_accuracy: 0.9888\n",
            "Epoch 2/5\n",
            "844/844 [==============================] - 100s 119ms/step - loss: 0.0331 - accuracy: 0.9895 - val_loss: 0.0342 - val_accuracy: 0.9913\n",
            "Epoch 3/5\n",
            "844/844 [==============================] - 105s 125ms/step - loss: 0.0230 - accuracy: 0.9925 - val_loss: 0.0315 - val_accuracy: 0.9922\n",
            "Epoch 4/5\n",
            "844/844 [==============================] - 101s 119ms/step - loss: 0.0168 - accuracy: 0.9945 - val_loss: 0.0371 - val_accuracy: 0.9912\n",
            "Epoch 5/5\n",
            "844/844 [==============================] - 101s 119ms/step - loss: 0.0127 - accuracy: 0.9959 - val_loss: 0.0353 - val_accuracy: 0.9912\n"
          ],
          "name": "stdout"
        },
        {
          "output_type": "execute_result",
          "data": {
            "text/plain": [
              "<tensorflow.python.keras.callbacks.History at 0x7f61b01b7048>"
            ]
          },
          "metadata": {
            "tags": []
          },
          "execution_count": 44
        }
      ]
    },
    {
      "cell_type": "markdown",
      "metadata": {
        "id": "Ed5ZW2TlhzeM"
      },
      "source": [
        "* epochs - training the neural network  iteratively over time -- epoch -- process every training dataset sample once.\n",
        "* Hyper parameter -- tuning\n",
        "* Batch size - number of samples to process at a tune -2 from 32, 512\n",
        "* validation_split -- 0.1 - each epoch model -- uses validation samples to make predictions. Displays the loss and accuracy -- tune your layers and fit method;s hyperparameter -- layers compositions of the model\n",
        "* Can specify validation data with argument, validation_data"
      ]
    },
    {
      "cell_type": "code",
      "metadata": {
        "id": "_DwdrFyyhzeN",
        "outputId": "11a8d0ef-075d-44d9-eef4-f2ffb100a090",
        "colab": {
          "base_uri": "https://localhost:8080/"
        }
      },
      "source": [
        "print(sum([89,89,77,86,75])/5)"
      ],
      "execution_count": null,
      "outputs": [
        {
          "output_type": "stream",
          "text": [
            "83.2\n"
          ],
          "name": "stdout"
        }
      ]
    },
    {
      "cell_type": "code",
      "metadata": {
        "id": "09sihX3chzeS",
        "outputId": "81e8e4ea-9b75-4cf1-89c0-a82ac29766be",
        "colab": {
          "base_uri": "https://localhost:8080/"
        }
      },
      "source": [
        "(83.2*5)/60"
      ],
      "execution_count": null,
      "outputs": [
        {
          "output_type": "execute_result",
          "data": {
            "text/plain": [
              "6.933333333333334"
            ]
          },
          "metadata": {
            "tags": []
          },
          "execution_count": 46
        }
      ]
    },
    {
      "cell_type": "code",
      "metadata": {
        "id": "jAVBDpuLhzeX",
        "outputId": "222b6921-adab-4721-ac0f-3079f253e4a2",
        "colab": {
          "base_uri": "https://localhost:8080/"
        }
      },
      "source": [
        "#evaluating the model on unseen data using the evaluate method\n",
        "loss, accuracy = cnn.evaluate(x_test, y_test)"
      ],
      "execution_count": null,
      "outputs": [
        {
          "output_type": "stream",
          "text": [
            "313/313 [==============================] - 6s 18ms/step - loss: 0.0320 - accuracy: 0.9909\n"
          ],
          "name": "stdout"
        }
      ]
    },
    {
      "cell_type": "code",
      "metadata": {
        "id": "kv4_v-70hzed",
        "outputId": "8c20af8d-66c8-4388-aad1-ee5f3f147ad4",
        "colab": {
          "base_uri": "https://localhost:8080/"
        }
      },
      "source": [
        "loss"
      ],
      "execution_count": null,
      "outputs": [
        {
          "output_type": "execute_result",
          "data": {
            "text/plain": [
              "0.03200076147913933"
            ]
          },
          "metadata": {
            "tags": []
          },
          "execution_count": 48
        }
      ]
    },
    {
      "cell_type": "code",
      "metadata": {
        "id": "gEtjEMQnhzei",
        "outputId": "506af540-73c4-48aa-835f-dbc8932fa9c2",
        "colab": {
          "base_uri": "https://localhost:8080/"
        }
      },
      "source": [
        "accuracy"
      ],
      "execution_count": null,
      "outputs": [
        {
          "output_type": "execute_result",
          "data": {
            "text/plain": [
              "0.9908999800682068"
            ]
          },
          "metadata": {
            "tags": []
          },
          "execution_count": 49
        }
      ]
    },
    {
      "cell_type": "markdown",
      "metadata": {
        "id": "yEX-dTLYhzep"
      },
      "source": [
        "# Making predictions with the model's predict method"
      ]
    },
    {
      "cell_type": "code",
      "metadata": {
        "id": "Kqtu_llDhzep"
      },
      "source": [
        "prediction = cnn.predict(x_test)"
      ],
      "execution_count": null,
      "outputs": []
    },
    {
      "cell_type": "code",
      "metadata": {
        "id": "_lh7WpRThzfA",
        "outputId": "ad3350d8-8fad-415d-b764-ab8e434e656b",
        "colab": {
          "base_uri": "https://localhost:8080/"
        }
      },
      "source": [
        "y_test[0] #First digit is a 7"
      ],
      "execution_count": null,
      "outputs": [
        {
          "output_type": "execute_result",
          "data": {
            "text/plain": [
              "array([0., 0., 0., 0., 0., 0., 0., 1., 0., 0.], dtype=float32)"
            ]
          },
          "metadata": {
            "tags": []
          },
          "execution_count": 51
        }
      ]
    },
    {
      "cell_type": "code",
      "metadata": {
        "id": "0rA58BVIhzfH",
        "outputId": "3c66f3c0-aa44-4bfc-a557-d6602379568d",
        "colab": {
          "base_uri": "https://localhost:8080/"
        }
      },
      "source": [
        "for index, probability in enumerate(prediction[0]):\n",
        "    print(f'{index} : {probability:.10%}')"
      ],
      "execution_count": null,
      "outputs": [
        {
          "output_type": "stream",
          "text": [
            "0 : 0.0000000618%\n",
            "1 : 0.0000000073%\n",
            "2 : 0.0000001800%\n",
            "3 : 0.0000005399%\n",
            "4 : 0.0000000000%\n",
            "5 : 0.0000000001%\n",
            "6 : 0.0000000000%\n",
            "7 : 100.0000000000%\n",
            "8 : 0.0000000127%\n",
            "9 : 0.0000006681%\n"
          ],
          "name": "stdout"
        }
      ]
    },
    {
      "cell_type": "markdown",
      "metadata": {
        "id": "FOAA7xgOhzfL"
      },
      "source": [
        "* Our model believes this digit is a 7: nearly 100% certain\n",
        "* Not all predictions are as accurate or have this certainty"
      ]
    },
    {
      "cell_type": "markdown",
      "metadata": {
        "id": "nsYl1DyghzfR"
      },
      "source": [
        "# Locating the incorrect predictions"
      ]
    },
    {
      "cell_type": "markdown",
      "metadata": {
        "id": "PtJPCcuphzfS"
      },
      "source": [
        "* We want to view incorrectly predicted images => so as to get a sense of\n",
        "    digits that the model has trouble getting right.\n",
        "* If the model is mispredicting 3s then we need more 3s\n",
        "* To determine whether a prediction was correct, we compare the index with the largest probablility\n",
        "    in the predictions [0] --> the one that contains the \"1\".\n",
        "    ** IF the indices are the same then the prediction is correct *\"\n",
        "    \n",
        "* Reshape the sample from the shape(28, 28, 1) that keras needed back to (28, 28) this is\n",
        "    what matplotlip needs for displaying images\n"
      ]
    },
    {
      "cell_type": "code",
      "metadata": {
        "id": "uFrsxcSyhzfT"
      },
      "source": [
        "images = x_test.reshape((10000, 28, 28))"
      ],
      "execution_count": null,
      "outputs": []
    },
    {
      "cell_type": "code",
      "metadata": {
        "id": "WE3bt7MZhzfY"
      },
      "source": [
        "incorrect_predictions = []#list"
      ],
      "execution_count": null,
      "outputs": []
    },
    {
      "cell_type": "code",
      "metadata": {
        "id": "I0BRshC_hzfb"
      },
      "source": [
        "for i, (p, e) in enumerate(zip(prediction, y_test)):\n",
        "    predicted, expected = np.argmax(p), np.argmax(e)\n",
        "    if predicted != expected: #prediction was incorrect\n",
        "        incorrect_predictions.append((i, images[i], predicted, expected))"
      ],
      "execution_count": null,
      "outputs": []
    },
    {
      "cell_type": "markdown",
      "metadata": {
        "id": "4zf1xCHHhzfj"
      },
      "source": [
        "p -- predicted value array and e is the expected\n",
        "argmax -- determines the index of an array with the highest valued element"
      ]
    },
    {
      "cell_type": "code",
      "metadata": {
        "id": "zE-4WIKHhzfl",
        "outputId": "cc813bd2-9ea6-4311-c24d-1b18d896ac82",
        "colab": {
          "base_uri": "https://localhost:8080/"
        }
      },
      "source": [
        "len(incorrect_predictions)"
      ],
      "execution_count": null,
      "outputs": [
        {
          "output_type": "execute_result",
          "data": {
            "text/plain": [
              "91"
            ]
          },
          "metadata": {
            "tags": []
          },
          "execution_count": 56
        }
      ]
    },
    {
      "cell_type": "markdown",
      "metadata": {
        "id": "KKTSEhL5hzft"
      },
      "source": [
        "* Display 24 of the incorrect images. Labelled with each images index,\n",
        "    predicted value and the expected value. Before reading the expected values,\n",
        "    look at each digit and write down what digit you think it is.\n",
        "** Helps getting know your data**\n"
      ]
    },
    {
      "cell_type": "code",
      "metadata": {
        "id": "SgXulw5Khzfu",
        "outputId": "4af637cf-4ca5-4c2e-97ab-d98cbee49b78",
        "colab": {
          "base_uri": "https://localhost:8080/",
          "height": 481
        }
      },
      "source": [
        "figure, axes = plt.subplots(nrows=4, ncols=6, figsize=(16, 12))\n",
        "\n",
        "for axes, item in zip(axes.ravel(), incorrect_predictions):\n",
        "    index, image, predicted, expected = item\n",
        "    axes.imshow(image, cmap=plt.cm.gray_r)\n",
        "    axes.set_xticks([]) # remove the x axis ticks marks\n",
        "    axes.set_yticks([]) # remove the y axis ticks marks\n",
        "    axes.set_title(f'index: {index}\\n p: {predicted} e: {expected} ')\n",
        "    plt.tight_layout()"
      ],
      "execution_count": null,
      "outputs": [
        {
          "output_type": "display_data",
          "data": {
            "image/png": "[encoded data removed]",
            "text/plain": [
              "<Figure size 1152x864 with 24 Axes>"
            ]
          },
          "metadata": {
            "tags": []
          }
        }
      ]
    },
    {
      "cell_type": "markdown",
      "metadata": {
        "id": "gVC-eomjhzf0"
      },
      "source": [
        "# Displaying the probabilities for the several incorrect predictions"
      ]
    },
    {
      "cell_type": "code",
      "metadata": {
        "id": "vaSL7uQMhzf1"
      },
      "source": [
        "def display_probabilities(prediction):\n",
        "    for index, probability in enumerate(prediction):\n",
        "        print(f'{index}: {probability: 10%}')"
      ],
      "execution_count": null,
      "outputs": []
    },
    {
      "cell_type": "code",
      "metadata": {
        "id": "qlQ4Xbdnhzf6",
        "outputId": "2e71e54e-230d-4f50-ed32-f9dd90f98a84",
        "colab": {
          "base_uri": "https://localhost:8080/"
        }
      },
      "source": [
        "display_probabilities(prediction[1530])"
      ],
      "execution_count": null,
      "outputs": [
        {
          "output_type": "stream",
          "text": [
            "0:  0.000001%\n",
            "1:  0.000133%\n",
            "2:  0.000290%\n",
            "3:  0.125113%\n",
            "4:  0.000186%\n",
            "5:  0.000006%\n",
            "6:  0.000000%\n",
            "7:  71.167207%\n",
            "8:  28.699550%\n",
            "9:  0.007525%\n"
          ],
          "name": "stdout"
        }
      ]
    },
    {
      "cell_type": "code",
      "metadata": {
        "id": "GX68it1chzgB",
        "outputId": "ddc0b71c-2637-4e35-b332-c29c3c7e0bca",
        "colab": {
          "base_uri": "https://localhost:8080/"
        }
      },
      "source": [
        "display_probabilities(prediction[582])"
      ],
      "execution_count": null,
      "outputs": [
        {
          "output_type": "stream",
          "text": [
            "0:  0.000045%\n",
            "1:  0.000008%\n",
            "2:  88.229227%\n",
            "3:  1.232129%\n",
            "4:  0.000000%\n",
            "5:  0.000000%\n",
            "6:  0.000185%\n",
            "7:  0.000037%\n",
            "8:  10.538372%\n",
            "9:  0.000000%\n"
          ],
          "name": "stdout"
        }
      ]
    },
    {
      "cell_type": "markdown",
      "metadata": {
        "id": "FHWaYeo5hzgG"
      },
      "source": [
        "# Saving and loading the model"
      ]
    },
    {
      "cell_type": "markdown",
      "metadata": {
        "id": "4Rx3efKOhzgH"
      },
      "source": [
        "* Saving model state\n",
        "    - Making more predictions\n",
        "    - Training more\n",
        "    - Train for nre problems\n",
        "    - Transfer learning -- to a new model"
      ]
    },
    {
      "cell_type": "code",
      "metadata": {
        "id": "D13WHY0ChzgH"
      },
      "source": [
        "cnn.save('mnist_cnn.h5') #Stores the model architecture and state and\n",
        "                        # in a hierarchical format"
      ],
      "execution_count": null,
      "outputs": []
    },
    {
      "cell_type": "code",
      "metadata": {
        "id": "7b9Nd5s9hzgL"
      },
      "source": [
        "# loading a saved model\n",
        "from tensorflow.keras.models import load_model\n"
      ],
      "execution_count": null,
      "outputs": []
    },
    {
      "cell_type": "code",
      "metadata": {
        "id": "0tf4iSYrhzgP"
      },
      "source": [
        "cnn = load_model('!mkdir -p saved_model')\n",
        "model.save('saved_model/my_model')"
      ],
      "execution_count": null,
      "outputs": []
    },
    {
      "cell_type": "code",
      "metadata": {
        "id": "jBMI7tkpClzT"
      },
      "source": [
        "!mkdir -p saved_model\n",
        "model.save('saved_model/my_model')"
      ],
      "execution_count": null,
      "outputs": []
    },
    {
      "cell_type": "code",
      "metadata": {
        "id": "oNvIVz59CNlU"
      },
      "source": [
        "!ls saved_model/mnist_cnn.h5"
      ],
      "execution_count": null,
      "outputs": []
    },
    {
      "cell_type": "code",
      "metadata": {
        "id": "GR4XNXlFIZk9"
      },
      "source": [
        "import torch\n",
        "from torchvision import datasets, models, transforms"
      ],
      "execution_count": null,
      "outputs": []
    },
    {
      "cell_type": "code",
      "metadata": {
        "id": "3ioOxVNqMgNQ"
      },
      "source": [
        "cnn = load_model('!mkdir -p saved_model')\n",
        "model.save('saved_model/my_model')"
      ],
      "execution_count": null,
      "outputs": []
    },
    {
      "cell_type": "code",
      "metadata": {
        "id": "ddpOM35wHuZB"
      },
      "source": [
        "torch.save(mnist(), 'drive/app/mnist_cnn.h5')"
      ],
      "execution_count": null,
      "outputs": []
    },
    {
      "cell_type": "code",
      "metadata": {
        "id": "7W1sbAPLJLYG"
      },
      "source": [
        "model_save_name = 'mnist_cnn.h5'\n",
        "path = F\"/content/drive/My Drive/{model_save_name}\"\n",
        "torch.save(model.state_dict(), path)"
      ],
      "execution_count": null,
      "outputs": []
    },
    {
      "cell_type": "code",
      "metadata": {
        "id": "AxN2xH38JaLm",
        "outputId": "3e9d6321-b238-4cfe-a376-165c9c0dd0a4",
        "colab": {
          "base_uri": "https://localhost:8080/"
        }
      },
      "source": [
        "from google.colab import drive\n",
        "drive.mount('/content/drive')"
      ],
      "execution_count": null,
      "outputs": [
        {
          "output_type": "stream",
          "text": [
            "Mounted at /content/drive\n"
          ],
          "name": "stdout"
        }
      ]
    },
    {
      "cell_type": "markdown",
      "metadata": {
        "id": "Z1rMk7XcjY6r"
      },
      "source": [
        "for next task:\n",
        "- on tensorboard -- view the data as you train or after training\n",
        "- scalars tab -- charts - see individual values that change overtime -- ACC,\n",
        "training loss-- loss , validation accuracy- val_acc, validation loss - val_loss\n",
        "- we will  visualize a 10 epoch run for the MNIST Convnet ..\n",
        "- epochs and the displayed values on the x-axe starting from 0 for the first epoch and the acc and loss values are displayed on the y-axes.\n"
      ]
    }
  ]
}