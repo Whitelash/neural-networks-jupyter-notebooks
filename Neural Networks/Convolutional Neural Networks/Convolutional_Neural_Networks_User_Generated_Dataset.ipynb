{
  "nbformat": 4,
  "nbformat_minor": 0,
  "metadata": {
    "kernelspec": {
      "display_name": "Python 3",
      "language": "python",
      "name": "python3"
    },
    "language_info": {
      "codemirror_mode": {
        "name": "ipython",
        "version": 3
      },
      "file_extension": ".py",
      "mimetype": "text/x-python",
      "name": "python",
      "nbconvert_exporter": "python",
      "pygments_lexer": "ipython3",
      "version": "3.6.10"
    },
    "colab": {
      "provenance": []
    }
  },
  "cells": [
    {
      "cell_type": "markdown",
      "metadata": {
        "id": "mdIMLAlJdiK7"
      },
      "source": [
        "# Introduction"
      ]
    },
    {
      "cell_type": "markdown",
      "metadata": {
        "id": "2pNKQsohdiK9"
      },
      "source": [
        "We have previously trained a convnet model to detect hand-drawn figures using the MNIST dataset. The model was trained on 60,000 images and 5 epochs with an accuracy of 99.50%, loss of 0.0160, value loss of 0.0407 and value accuracy of 0.9897.\n",
        "\n",
        "We will be using this model to predict the values of 20 hand-drawn numbers and evaluate the model on how well it performs."
      ]
    },
    {
      "cell_type": "markdown",
      "metadata": {
        "id": "1yF1XHjydiK-"
      },
      "source": [
        "# Loading the Dataset"
      ]
    },
    {
      "cell_type": "markdown",
      "metadata": {
        "id": "TVi18D9wdiK_"
      },
      "source": [
        "We first need to load the folder of images using the CV2 imaging library as well as the os module to access operating system paths. We then load the images and place them in a list for use."
      ]
    },
    {
      "cell_type": "code",
      "metadata": {
        "id": "3Btza7P_diLA"
      },
      "source": [
        "import os, os.path\n",
        "import numpy as np\n",
        "import matplotlib.pyplot as plt\n",
        "import cv2\n",
        "\n",
        "%matplotlib inline"
      ],
      "execution_count": null,
      "outputs": []
    },
    {
      "cell_type": "markdown",
      "metadata": {
        "id": "GXZd6cOldiLG"
      },
      "source": [
        "This defines the sizes of the images to be used as well as the path of the image folder"
      ]
    },
    {
      "cell_type": "code",
      "metadata": {
        "id": "KvhAsLv1diLG"
      },
      "source": [
        "IMG_WIDTH=28\n",
        "IMG_HEIGHT=28\n",
        "img_folder=r'C:\\\\Users\\\\abdul\\\\Desktop\\\\AI\\\\numbers'"
      ],
      "execution_count": null,
      "outputs": []
    },
    {
      "cell_type": "markdown",
      "metadata": {
        "id": "eB7wsIPpdiLK"
      },
      "source": [
        "This function does the following things\n",
        "* Traverses the root folder, opens the images and saves them in the list.\n",
        "* Loads the images as grayscale using cv2.BGR2GRAY\n",
        "* Resizes the images in order to fit the shape the model requires (28 * 28 pixels with 1 color channel), using inter area interpolation\n",
        "* Sets the type of the images to float 32\n",
        "* Normalizes the images from 0.0 to 1.0\n",
        "* Defines the classes of each image based on the name of the folder they are in. The folders are named '0' to '9' and these names define the classes of the images"
      ]
    },
    {
      "cell_type": "code",
      "metadata": {
        "id": "nIHMaawidiLM"
      },
      "source": [
        "def create_dataset(img_folder):\n",
        "\n",
        "    img_data_array=[]\n",
        "    class_name=[]\n",
        "\n",
        "    for dir1 in os.listdir(img_folder):\n",
        "        for file in os.listdir(os.path.join(img_folder, dir1)):\n",
        "            image_path= os.path.join(img_folder, dir1,  file)\n",
        "            image= cv2.imread( image_path, 0)\n",
        "            image=cv2.resize(image, (IMG_HEIGHT, IMG_WIDTH),interpolation = cv2.INTER_AREA)\n",
        "            image=np.array(image)\n",
        "            image = image.astype('float32')\n",
        "            image /= 255\n",
        "            img_data_array.append(image)\n",
        "            class_name.append(dir1)\n",
        "    return img_data_array, class_name\n",
        "# extract the image array and class name\n",
        "img_data, class_name =create_dataset(r'C:\\\\Users\\\\abdul\\\\Desktop\\\\AI\\\\numbers')"
      ],
      "execution_count": null,
      "outputs": []
    },
    {
      "cell_type": "markdown",
      "metadata": {
        "id": "euNYHXwWdiLQ"
      },
      "source": [
        "# Displaying the Images"
      ]
    },
    {
      "cell_type": "markdown",
      "metadata": {
        "id": "ynrdDibRdiLR"
      },
      "source": [
        "We can use Matplotlib to display the images in various indexes in the list"
      ]
    },
    {
      "cell_type": "code",
      "metadata": {
        "id": "05fnCFFQdiLS",
        "outputId": "6e355788-10b0-4620-c840-9ea362d9db58"
      },
      "source": [
        "plt.imshow(img_data[5])"
      ],
      "execution_count": null,
      "outputs": [
        {
          "output_type": "execute_result",
          "data": {
            "text/plain": [
              "<matplotlib.image.AxesImage at 0x2224a278ef0>"
            ]
          },
          "metadata": {
            "tags": []
          },
          "execution_count": 6
        },
        {
          "output_type": "display_data",
          "data": {
            "image/png": "[encoded data removed]",
            "text/plain": [
              "<Figure size 432x288 with 1 Axes>"
            ]
          },
          "metadata": {
            "tags": [],
            "needs_background": "light"
          }
        }
      ]
    },
    {
      "cell_type": "markdown",
      "metadata": {
        "id": "r2czsjhediLX"
      },
      "source": [
        "# Preparing the data"
      ]
    },
    {
      "cell_type": "markdown",
      "metadata": {
        "id": "9503J1vadiLY"
      },
      "source": [
        "We then convert this list into a Numpy array for use in the model"
      ]
    },
    {
      "cell_type": "code",
      "metadata": {
        "id": "0m1GbSQUdiLZ"
      },
      "source": [
        "imgs = np.array(img_data)"
      ],
      "execution_count": null,
      "outputs": []
    },
    {
      "cell_type": "markdown",
      "metadata": {
        "id": "0o3YjjmPdiLe"
      },
      "source": [
        "The numpy array is then reshaped to fit the model that we have previously created"
      ]
    },
    {
      "cell_type": "code",
      "metadata": {
        "id": "kdmpfFKIdiLf"
      },
      "source": [
        "imgs =imgs.reshape((20,28,28,1))"
      ],
      "execution_count": null,
      "outputs": []
    },
    {
      "cell_type": "code",
      "metadata": {
        "id": "1e_5DdggdiLl",
        "outputId": "44930da8-2128-4584-c664-38f42c70bb71"
      },
      "source": [
        "imgs.shape"
      ],
      "execution_count": null,
      "outputs": [
        {
          "output_type": "execute_result",
          "data": {
            "text/plain": [
              "(20, 28, 28, 1)"
            ]
          },
          "metadata": {
            "tags": []
          },
          "execution_count": 9
        }
      ]
    },
    {
      "cell_type": "code",
      "metadata": {
        "id": "RnClcdoypKlI"
      },
      "source": [],
      "execution_count": null,
      "outputs": []
    },
    {
      "cell_type": "markdown",
      "metadata": {
        "id": "TL4DK0kIdiLp"
      },
      "source": [
        "# Loading the model"
      ]
    },
    {
      "cell_type": "markdown",
      "metadata": {
        "id": "4mlBURrbdiLp"
      },
      "source": [
        "We load the convnet model that we had previously created to test it on this new dataset."
      ]
    },
    {
      "cell_type": "code",
      "metadata": {
        "id": "i3KMSU3JdiLq"
      },
      "source": [
        "# To load a saved model\n",
        "from tensorflow.keras.models import load_model\n",
        "cnn=load_model('mnist_cnn.h5')"
      ],
      "execution_count": null,
      "outputs": []
    },
    {
      "cell_type": "markdown",
      "metadata": {
        "id": "t5bBj8bHdiLu"
      },
      "source": [
        "A summary of the model is shown below"
      ]
    },
    {
      "cell_type": "code",
      "metadata": {
        "id": "kHbgfxandiLu",
        "outputId": "23a319ce-521f-4279-8368-84408b1e2ee0"
      },
      "source": [
        "cnn.summary()"
      ],
      "execution_count": null,
      "outputs": [
        {
          "output_type": "stream",
          "text": [
            "Model: \"sequential\"\n",
            "_________________________________________________________________\n",
            "Layer (type)                 Output Shape              Param #   \n",
            "=================================================================\n",
            "conv2d (Conv2D)              (None, 26, 26, 64)        640       \n",
            "_________________________________________________________________\n",
            "max_pooling2d (MaxPooling2D) (None, 13, 13, 64)        0         \n",
            "_________________________________________________________________\n",
            "conv2d_1 (Conv2D)            (None, 11, 11, 128)       73856     \n",
            "_________________________________________________________________\n",
            "max_pooling2d_1 (MaxPooling2 (None, 5, 5, 128)         0         \n",
            "_________________________________________________________________\n",
            "flatten (Flatten)            (None, 3200)              0         \n",
            "_________________________________________________________________\n",
            "dense (Dense)                (None, 128)               409728    \n",
            "_________________________________________________________________\n",
            "dense_1 (Dense)              (None, 10)                1290      \n",
            "=================================================================\n",
            "Total params: 485,514\n",
            "Trainable params: 485,514\n",
            "Non-trainable params: 0\n",
            "_________________________________________________________________\n"
          ],
          "name": "stdout"
        }
      ]
    },
    {
      "cell_type": "markdown",
      "metadata": {
        "id": "1pPcLm3GdiLy"
      },
      "source": [
        "We feed our image dataset into the convnet model"
      ]
    },
    {
      "cell_type": "code",
      "metadata": {
        "id": "yt_dbgCydiLz"
      },
      "source": [
        "predictions=cnn.predict(imgs)"
      ],
      "execution_count": null,
      "outputs": []
    },
    {
      "cell_type": "markdown",
      "metadata": {
        "id": "X2wxTkXadiL3"
      },
      "source": [
        "# Evaluating the model"
      ]
    },
    {
      "cell_type": "markdown",
      "metadata": {
        "id": "pt0ZUUptdiL5"
      },
      "source": [
        "We can test the model to see how well it performs. We first define the class values in order to compare the predicted to the expected"
      ]
    },
    {
      "cell_type": "code",
      "metadata": {
        "id": "nRI-aWXSdiL6"
      },
      "source": [
        "target_dict={k: v for v, k in enumerate(np.unique(class_name))}\n",
        "target_val=  [target_dict[class_name[i]] for i in range(len(class_name))]"
      ],
      "execution_count": null,
      "outputs": []
    },
    {
      "cell_type": "code",
      "metadata": {
        "id": "25SVpNoOdiMA",
        "outputId": "cebb56e0-c071-4044-c47c-a327ed29ff62"
      },
      "source": [
        "target_dict"
      ],
      "execution_count": null,
      "outputs": [
        {
          "output_type": "execute_result",
          "data": {
            "text/plain": [
              "{'0': 0,\n",
              " '1': 1,\n",
              " '2': 2,\n",
              " '3': 3,\n",
              " '4': 4,\n",
              " '5': 5,\n",
              " '6': 6,\n",
              " '7': 7,\n",
              " '8': 8,\n",
              " '9': 9}"
            ]
          },
          "metadata": {
            "tags": []
          },
          "execution_count": 14
        }
      ]
    },
    {
      "cell_type": "markdown",
      "metadata": {
        "id": "nT-xGviEdiMG"
      },
      "source": [
        "The class data must be transformed into categorical data in order to compare the predicted and expected values"
      ]
    },
    {
      "cell_type": "code",
      "metadata": {
        "id": "xdjFLN2tdiMH"
      },
      "source": [
        "from tensorflow.keras.utils import to_categorical"
      ],
      "execution_count": null,
      "outputs": []
    },
    {
      "cell_type": "code",
      "metadata": {
        "id": "3yh5AWfidiML"
      },
      "source": [
        "target_val=to_categorical(target_val)"
      ],
      "execution_count": null,
      "outputs": []
    },
    {
      "cell_type": "code",
      "metadata": {
        "id": "5zakmq8GdiMP",
        "outputId": "4648859a-62cb-4ade-e7d6-958a977016ed"
      },
      "source": [
        "target_val.shape"
      ],
      "execution_count": null,
      "outputs": [
        {
          "output_type": "execute_result",
          "data": {
            "text/plain": [
              "(20, 10)"
            ]
          },
          "metadata": {
            "tags": []
          },
          "execution_count": 17
        }
      ]
    },
    {
      "cell_type": "code",
      "metadata": {
        "id": "O6zWcDMCdiMU",
        "outputId": "2e2ee069-6524-4326-a2aa-957a6bc66cf4"
      },
      "source": [
        "target_val[0]"
      ],
      "execution_count": null,
      "outputs": [
        {
          "output_type": "execute_result",
          "data": {
            "text/plain": [
              "array([1., 0., 0., 0., 0., 0., 0., 0., 0., 0.], dtype=float32)"
            ]
          },
          "metadata": {
            "tags": []
          },
          "execution_count": 18
        }
      ]
    },
    {
      "cell_type": "code",
      "metadata": {
        "id": "gxvh1R0WdiMZ"
      },
      "source": [
        "images=imgs.reshape((20,28,28))\n",
        "incorrect_predictions=[]"
      ],
      "execution_count": null,
      "outputs": []
    },
    {
      "cell_type": "markdown",
      "metadata": {
        "id": "k-o2dprIdiMc"
      },
      "source": [
        "We then find the highest probability that each image might be. This is then compared to the class that it is supposed to be. The incorrect predictions are then stored in a list to be displayed"
      ]
    },
    {
      "cell_type": "code",
      "metadata": {
        "id": "HE3EHx1IdiMc"
      },
      "source": [
        "for i, (p,e) in enumerate(zip(predictions,target_val)):\n",
        "    predicted, expected = np.argmax(p),np.argmax(e)\n",
        "    if predicted != expected: # prediction was incorrect\n",
        "        incorrect_predictions.append((i,images[i],predicted, expected))"
      ],
      "execution_count": null,
      "outputs": []
    },
    {
      "cell_type": "code",
      "metadata": {
        "id": "aNOLq5DBdiMf",
        "outputId": "aa466a7b-f84b-4a4b-81d7-f52647dfcad5"
      },
      "source": [
        "len(incorrect_predictions)"
      ],
      "execution_count": null,
      "outputs": [
        {
          "output_type": "execute_result",
          "data": {
            "text/plain": [
              "18"
            ]
          },
          "metadata": {
            "tags": []
          },
          "execution_count": 21
        }
      ]
    },
    {
      "cell_type": "markdown",
      "metadata": {
        "id": "l_LsdA4KdiMi"
      },
      "source": [
        "The model has 18 innacurate predictions. This means that it has an accuracy of 10%"
      ]
    },
    {
      "cell_type": "code",
      "metadata": {
        "scrolled": true,
        "id": "DT1b3kFFdiMj",
        "outputId": "d5aca04a-7e05-4e19-b8cf-f3ab48d0d840"
      },
      "source": [
        "figure, axes=plt.subplots(nrows=3, ncols=6, figsize=(16,12))\n",
        "\n",
        "for axes, item in zip(axes.ravel(), incorrect_predictions):\n",
        "    index, image,predicted, expected = item\n",
        "    axes.imshow(image,cmap=plt.cm.gray_r)\n",
        "    axes.set_title(f'index: {index}\\n p: {predicted};e: {expected}')\n",
        "plt.tight_layout()"
      ],
      "execution_count": null,
      "outputs": [
        {
          "output_type": "display_data",
          "data": {
            "image/png": "[encoded data removed]",
            "text/plain": [
              "<Figure size 1152x864 with 18 Axes>"
            ]
          },
          "metadata": {
            "tags": [],
            "needs_background": "light"
          }
        }
      ]
    },
    {
      "cell_type": "markdown",
      "metadata": {
        "id": "fZy1KLs-diMn"
      },
      "source": [
        "The predicted and expected values can be confirmed by viewing the images individually"
      ]
    },
    {
      "cell_type": "code",
      "metadata": {
        "id": "c9VC3gFYdiMo",
        "outputId": "f8b45289-92b3-4245-d896-45431f496d92"
      },
      "source": [
        "plt.imshow(images[2])"
      ],
      "execution_count": null,
      "outputs": [
        {
          "output_type": "execute_result",
          "data": {
            "text/plain": [
              "<matplotlib.image.AxesImage at 0x22254b3c390>"
            ]
          },
          "metadata": {
            "tags": []
          },
          "execution_count": 23
        },
        {
          "output_type": "display_data",
          "data": {
            "image/png": "[encoded data removed]",
            "text/plain": [
              "<Figure size 432x288 with 1 Axes>"
            ]
          },
          "metadata": {
            "tags": [],
            "needs_background": "light"
          }
        }
      ]
    },
    {
      "cell_type": "code",
      "metadata": {
        "id": "nyF98aYjdiMr",
        "outputId": "3aa19344-75c8-4bc0-8e7a-49b3df41ceb3"
      },
      "source": [
        "for index,probability in enumerate(predictions[2]):\n",
        "    print(f\"{index}: {probability:.10%}\")"
      ],
      "execution_count": null,
      "outputs": [
        {
          "output_type": "stream",
          "text": [
            "0: 15.0432184339%\n",
            "1: 7.3232635856%\n",
            "2: 7.0527561009%\n",
            "3: 3.9916556329%\n",
            "4: 23.8732457161%\n",
            "5: 8.5070207715%\n",
            "6: 10.3634752333%\n",
            "7: 5.6072149426%\n",
            "8: 11.3086342812%\n",
            "9: 6.9295071065%\n"
          ],
          "name": "stdout"
        }
      ]
    },
    {
      "cell_type": "markdown",
      "metadata": {
        "id": "piVNPQjAdiMw"
      },
      "source": [
        "The model predicts this number to be a 4 with a 23.87% probability however it is actually a 1"
      ]
    },
    {
      "cell_type": "markdown",
      "metadata": {
        "id": "WVGXBEdOdiMx"
      },
      "source": [
        "# Conclusion"
      ]
    },
    {
      "cell_type": "markdown",
      "metadata": {
        "id": "hA6sZ6LUdiMy"
      },
      "source": [
        "This model is not accurate at all (10%). This is most likely to do with overfitting where the model was highly specialized towards the training dataset however it performs poorly on new data."
      ]
    }
  ]
}